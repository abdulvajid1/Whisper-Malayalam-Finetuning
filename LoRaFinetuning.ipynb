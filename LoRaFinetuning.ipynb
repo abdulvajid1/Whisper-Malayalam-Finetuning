{
 "cells": [
  {
   "cell_type": "code",
   "execution_count": 1,
   "id": "04cc562d",
   "metadata": {},
   "outputs": [],
   "source": [
    "from datasets import load_dataset, DatasetDict\n",
    "from torch.utils.data import DataLoader\n",
    "import torch\n",
    "from torchaudio import load\n",
    "\n",
    "# Load Whisper processor\n",
    "from transformers import WhisperProcessor, WhisperFeatureExtractor, WhisperTokenizer\n",
    "from transformers import WhisperForConditionalGeneration\n",
    "from transformers import Seq2SeqTrainingArguments, Seq2SeqTrainer\n",
    "\n",
    "from dotenv import load_dotenv\n",
    "from huggingface_hub import login\n",
    "import os\n"
   ]
  },
  {
   "cell_type": "code",
   "execution_count": 2,
   "id": "ffea934c",
   "metadata": {},
   "outputs": [],
   "source": [
    "load_dotenv()\n",
    "login_token = os.getenv('HuggingFaceToken')\n",
    "\n",
    "login(login_token)"
   ]
  },
  {
   "cell_type": "markdown",
   "id": "5ce19b42",
   "metadata": {},
   "source": [
    "## Data Modeling"
   ]
  },
  {
   "cell_type": "code",
   "execution_count": 3,
   "id": "31731923",
   "metadata": {},
   "outputs": [
    {
     "name": "stdout",
     "output_type": "stream",
     "text": [
      "DatasetDict({\n",
      "    train: Dataset({\n",
      "        features: ['client_id', 'path', 'audio', 'sentence', 'up_votes', 'down_votes', 'age', 'gender', 'accent', 'locale', 'segment', 'variant'],\n",
      "        num_rows: 2023\n",
      "    })\n",
      "    test: Dataset({\n",
      "        features: ['client_id', 'path', 'audio', 'sentence', 'up_votes', 'down_votes', 'age', 'gender', 'accent', 'locale', 'segment', 'variant'],\n",
      "        num_rows: 710\n",
      "    })\n",
      "})\n"
     ]
    }
   ],
   "source": [
    "common_voice = DatasetDict()\n",
    "\n",
    "common_voice[\"train\"] = load_dataset(\n",
    "    \"mozilla-foundation/common_voice_17_0\", \"ml\", split=\"train+validation\", trust_remote_code=True\n",
    ")\n",
    "common_voice[\"test\"] = load_dataset(\n",
    "    \"mozilla-foundation/common_voice_17_0\", \"ml\", split=\"test\", trust_remote_code=True\n",
    ")\n",
    "\n",
    "print(common_voice)"
   ]
  },
  {
   "cell_type": "code",
   "execution_count": 4,
   "id": "788cad4a",
   "metadata": {},
   "outputs": [],
   "source": [
    "# remove unwanted features\n",
    "common_voice = common_voice.select_columns(['audio', 'sentence'])"
   ]
  },
  {
   "cell_type": "code",
   "execution_count": 5,
   "id": "71afaaba",
   "metadata": {},
   "outputs": [
    {
     "name": "stdout",
     "output_type": "stream",
     "text": [
      "{'path': 'C:\\\\Users\\\\VICTUS\\\\.cache\\\\huggingface\\\\datasets\\\\downloads\\\\extracted\\\\3e7b12b0fa0deddeccc4a37a644801109d30fe7dda8b39a953688d0be0744a2f\\\\ml_train_0/common_voice_ml_37003897.mp3', 'array': array([0.00000000e+00, 0.00000000e+00, 0.00000000e+00, ...,\n",
      "       1.33694380e-06, 6.72575652e-07, 1.44025307e-07], shape=(150336,)), 'sampling_rate': 48000}\n"
     ]
    }
   ],
   "source": [
    "print(common_voice['train'][0]['audio'])"
   ]
  },
  {
   "cell_type": "code",
   "execution_count": 6,
   "id": "6d5b848d",
   "metadata": {},
   "outputs": [],
   "source": [
    "# 48kHz -> 16kHz\n",
    "from datasets import Audio\n",
    "common_voice = common_voice.cast_column(\"audio\", Audio(sampling_rate=16000))"
   ]
  },
  {
   "cell_type": "code",
   "execution_count": 7,
   "id": "f6c6b187",
   "metadata": {},
   "outputs": [
    {
     "data": {
      "text/plain": [
       "array([ 0.00000000e+00,  0.00000000e+00,  0.00000000e+00, ...,\n",
       "       -1.61271237e-06, -1.26397367e-06,  1.32478658e-06], shape=(50112,))"
      ]
     },
     "execution_count": 7,
     "metadata": {},
     "output_type": "execute_result"
    }
   ],
   "source": [
    "common_voice['train'][0]['audio']['array']"
   ]
  },
  {
   "cell_type": "code",
   "execution_count": 8,
   "id": "9f35b2e7",
   "metadata": {},
   "outputs": [],
   "source": [
    "# def collate_fuc(batch):\n",
    "#     print(len(batch))\n",
    "#     print(batch[0].keys())\n",
    "# data_loader = DataLoader(common_voice['train'], batch_size=3, shuffle=True, collate_fn=collate_fuc)"
   ]
  },
  {
   "cell_type": "code",
   "execution_count": 9,
   "id": "1d45832d",
   "metadata": {},
   "outputs": [],
   "source": [
    "# for i in data_loader:\n",
    "#     break"
   ]
  },
  {
   "cell_type": "code",
   "execution_count": 10,
   "id": "b55252f5",
   "metadata": {},
   "outputs": [],
   "source": [
    "# filtering audio len > 30 sec  "
   ]
  },
  {
   "cell_type": "code",
   "execution_count": 11,
   "id": "a75ce08e",
   "metadata": {},
   "outputs": [],
   "source": [
    "# whisper proccessor wrap whisperFeature extractor for audio and whispertokenizer for text labels as one processor \n",
    "feature_extractor = WhisperFeatureExtractor.from_pretrained('openai/whisper-small', task='transcribe', language='malayalam')\n",
    "tokenizer = WhisperTokenizer.from_pretrained('openai/whisper-small', task='transcribe', language='malayalam')\n",
    "processor = WhisperProcessor.from_pretrained('openai/whisper-small', task='transcribe', language='malayalam')"
   ]
  },
  {
   "cell_type": "code",
   "execution_count": 12,
   "id": "6eea5ca5",
   "metadata": {},
   "outputs": [],
   "source": [
    "# sample_tokens = tokenizer.encode('ഇല്ല മോനേ')\n",
    "# tokenizer.decode(sample_tokens)"
   ]
  },
  {
   "cell_type": "code",
   "execution_count": 13,
   "id": "db6558f9",
   "metadata": {},
   "outputs": [
    {
     "name": "stdout",
     "output_type": "stream",
     "text": [
      "Audio:tensor([[ 0.0000,  0.0000,  0.0000,  ...,  0.0004,  0.0003, -0.0002]])\n",
      "Sampling : 48000\n"
     ]
    }
   ],
   "source": [
    "audio, sampling = load('record_out.wav')\n",
    "print(f\"Audio:{audio}\")\n",
    "print(f\"Sampling : {sampling}\")\n",
    "audio = audio[0] # convert to 1d array (single audio should 1d array if it is mono, if stereo , we use two array for audio )\n",
    "\n",
    "text = 'ഇല്ല മോനേ'\n",
    "batch = processor(audio=audio, text=text, sampling_rate=16000) "
   ]
  },
  {
   "cell_type": "code",
   "execution_count": 14,
   "id": "7a621160",
   "metadata": {},
   "outputs": [],
   "source": [
    "# Prepare data\n",
    "def prepare_data(batch):\n",
    "    # processor have both feature extractor for audio and tokenizer for text, so we just pass both of theem\n",
    "    batch = processor(audio=batch['audio']['array'],\n",
    "                      text=batch['sentence'],\n",
    "                      sampling_rate=processor.feature_extractor.sampling_rate)\n",
    "    return batch"
   ]
  },
  {
   "cell_type": "code",
   "execution_count": 15,
   "id": "6d9ce986",
   "metadata": {},
   "outputs": [],
   "source": [
    "common_voice = common_voice.map(prepare_data, batched=False)"
   ]
  },
  {
   "cell_type": "code",
   "execution_count": 16,
   "id": "bb9dd23b",
   "metadata": {},
   "outputs": [],
   "source": [
    "common_voice = common_voice.select_columns(['input_features', 'labels'])"
   ]
  },
  {
   "cell_type": "code",
   "execution_count": 17,
   "id": "7f734de1",
   "metadata": {},
   "outputs": [
    {
     "data": {
      "text/plain": [
       "torch.Size([1, 80, 3000])"
      ]
     },
     "execution_count": 17,
     "metadata": {},
     "output_type": "execute_result"
    }
   ],
   "source": [
    "torch.tensor(common_voice['train'][0]['input_features']).shape # (1, 80, 3000)"
   ]
  },
  {
   "cell_type": "markdown",
   "id": "291e40c5",
   "metadata": {},
   "source": [
    "Dataloader takes random datapoints, here it will look like {input_feature:.., labels}, when batch enabled it will be like [{inp:.., lable:..}, {inp: .., label:..}], we need to use data collator for pad them and join them"
   ]
  },
  {
   "cell_type": "code",
   "execution_count": 18,
   "id": "3f6badd5",
   "metadata": {},
   "outputs": [],
   "source": [
    "# feature_extractor.pad(common_voice['train'][:2])"
   ]
  },
  {
   "cell_type": "code",
   "execution_count": 19,
   "id": "94f20449",
   "metadata": {},
   "outputs": [
    {
     "data": {
      "text/plain": [
       "Dataset({\n",
       "    features: ['input_features', 'labels'],\n",
       "    num_rows: 2023\n",
       "})"
      ]
     },
     "execution_count": 19,
     "metadata": {},
     "output_type": "execute_result"
    }
   ],
   "source": [
    "common_voice['train']"
   ]
  },
  {
   "cell_type": "code",
   "execution_count": 20,
   "id": "b47615af",
   "metadata": {},
   "outputs": [],
   "source": [
    "# Data Collator for padding\n",
    "\n",
    "class DataCollatorForSeqToSeqPadding:\n",
    "    def __init__(self, processor: WhisperProcessor):\n",
    "        self.processor = processor\n",
    "        \n",
    "    def __call__(self, batch):\n",
    "        # batch = [ {'input_feature':[], labels:[]}, {} ...]    \n",
    "        input_features = [{\"input_features\" : data['input_features'][0]} for data in batch]\n",
    "        labels = [{\"input_ids\" : data['labels']} for data in batch]\n",
    "    \n",
    "        # feature extractor from hugging face already support padding to {'input_features':[]}   \n",
    "        # padding using feature extractor for audio and tokenizer for labels\n",
    "        batch = self.processor.feature_extractor.pad(input_features, return_tensors='pt') # created a batch object , later will add label to this too, that's how huggingface model expect data {'input_features':[], labels:[]}\n",
    "        \n",
    "        # whisper tokenizer.pad will check the {'input_ids':[]} for padding and return in same forma\n",
    "        labels = self.processor.tokenizer.pad(labels, return_tensors='pt')\n",
    "    \n",
    "    \n",
    "        # since we are using hugging face model we don't need to stack the tensor cuz the hugging face (whisper here) model expect input like {'input_features':[], labels:[]}\n",
    "        # tensor stacking\n",
    "        # input_features = torch.stack(input_features, dim=0)\n",
    "        # labels = torch.stack(labels) # have \n",
    "        \n",
    "        \n",
    "        labels = labels['input_ids'].masked_fill(labels['attention_mask'].eq(0), -100)\n",
    "        \n",
    "        # we are removing the start token since the hugging face model design to automatically add start token \n",
    "        # by doing shifting labels to right [1, 2, <\\s>] -> [<s>, 1, 2], where we using this shifted tensor as input\n",
    "        # and the non shifted as the labels to calculate the loss (the model gets what's his start token from the config)\n",
    "        \n",
    "        if (labels[:, 0] == self.processor.tokenizer.bos_token_id).all().cpu().item():\n",
    "            print()\n",
    "            labels = labels[:, 1:]\n",
    "\n",
    "        batch[\"labels\"] = labels\n",
    "            \n",
    "        \n",
    "        return batch\n",
    "        "
   ]
  },
  {
   "cell_type": "code",
   "execution_count": 21,
   "id": "261d2ff8",
   "metadata": {},
   "outputs": [
    {
     "data": {
      "text/plain": [
       "50257"
      ]
     },
     "execution_count": 21,
     "metadata": {},
     "output_type": "execute_result"
    }
   ],
   "source": [
    "tokenizer.bos_token_id"
   ]
  },
  {
   "cell_type": "code",
   "execution_count": 22,
   "id": "c849455e",
   "metadata": {},
   "outputs": [
    {
     "data": {
      "text/plain": [
       "'<|endoftext|>'"
      ]
     },
     "execution_count": 22,
     "metadata": {},
     "output_type": "execute_result"
    }
   ],
   "source": [
    "tokenizer.decode(processor.tokenizer.bos_token_id)"
   ]
  },
  {
   "cell_type": "code",
   "execution_count": 23,
   "id": "8abe1e0a",
   "metadata": {},
   "outputs": [],
   "source": [
    "# common_voice['train'][0]['labels']\n"
   ]
  },
  {
   "cell_type": "code",
   "execution_count": 24,
   "id": "380221a8",
   "metadata": {},
   "outputs": [],
   "source": [
    "collate_fn = DataCollatorForSeqToSeqPadding(processor=processor)\n",
    "\n",
    "# data loader for just checking the data collator, seqtoseq trainer does not need dataloader (inbuilt)\n",
    "data_loader = DataLoader(dataset=common_voice['train'],\n",
    "                         collate_fn=collate_fn,\n",
    "                         batch_size=2,\n",
    "                         shuffle=True, \n",
    "                         drop_last=True)"
   ]
  },
  {
   "cell_type": "code",
   "execution_count": 25,
   "id": "daa93162",
   "metadata": {},
   "outputs": [
    {
     "name": "stdout",
     "output_type": "stream",
     "text": [
      "torch.Size([2, 80, 3000])\n",
      "<|startoftranscript|><|ml|><|transcribe|><|notimestamps|>എല്ലാവരും മുഴുവൻ സമയം വീടുകളിൽ മാത്രമായിരിക്കുമ്പോൾ അത് സ്ത്രീകളെ എങ്ങനെയെല്ലാം ബാധിക്കുന്നു എന്നത് ഒരു വലിയ ചോദ്യമാണ്.<|endoftext|>\n"
     ]
    }
   ],
   "source": [
    "for batch in data_loader:\n",
    "    print(batch['input_features'].shape) # torch.Size([2, 80, 3000]), Yes now it's coming as batch size and not in (2, 1, 80, 3000)\n",
    "    print(tokenizer.decode(batch['labels'][0]))\n",
    "    break"
   ]
  },
  {
   "cell_type": "markdown",
   "id": "bf94029b",
   "metadata": {},
   "source": [
    "## Model setup"
   ]
  },
  {
   "cell_type": "code",
   "execution_count": 26,
   "id": "bd32e5a6",
   "metadata": {},
   "outputs": [],
   "source": [
    "import evaluate\n",
    "metric = evaluate.load('wer')"
   ]
  },
  {
   "cell_type": "code",
   "execution_count": 27,
   "id": "316f4a6b",
   "metadata": {},
   "outputs": [],
   "source": [
    "def compute_metrics(pred):\n",
    "    # pred will look like {'label_ids':[torch.tensor], prediction:[torch.tensor]}\n",
    "    \n",
    "    pred_ids = pred.predictions\n",
    "    label_ids = pred.label_ids\n",
    "    \n",
    "    # change all -100 value which we set for loss calculation back to padding since we are calculating wer\n",
    "    label_ids[label_ids] = tokenizer.pad_token_id\n",
    "    \n",
    "    # convert to string and remove the padding token if there is.. if it was -100 then it won't work that is why we changed back to padding\n",
    "    pred_str = tokenizer.batch_decode(pred_ids, skip_special_tokens=True) \n",
    "    label_str = tokenizer.batch_decode(label_ids, skip_special_tokens=True)\n",
    "    \n",
    "    # Now compute, the metric comes from the evaluate and we set it in the arugment of Trainer so compute metric use this metric here\n",
    "    wer = 100 * metric.compute(prediction=pred_str, references=label_str)\n",
    "    \n",
    "    return {'wer': wer} # standard form of hugging face"
   ]
  },
  {
   "cell_type": "markdown",
   "id": "94f80821",
   "metadata": {},
   "source": [
    "### Lora Setup"
   ]
  },
  {
   "cell_type": "code",
   "execution_count": 28,
   "id": "6aefe017",
   "metadata": {},
   "outputs": [],
   "source": [
    "from peft import LoraConfig, TaskType\n",
    "from peft import get_peft_model"
   ]
  },
  {
   "cell_type": "code",
   "execution_count": 29,
   "id": "798841f5",
   "metadata": {},
   "outputs": [],
   "source": [
    "# Choose model size here\n",
    "model = WhisperForConditionalGeneration.from_pretrained(\"openai/whisper-small\")\n",
    "\n",
    "# forced decoder ids automatically add tokens at specified position (1, tokenizer.bos_token), so at decoder time the model automaticall generate it\n",
    "model.config.forced_decoder_ids = None\n",
    "model.config.suppress_tokens = []"
   ]
  },
  {
   "cell_type": "code",
   "execution_count": 30,
   "id": "ce66e3df",
   "metadata": {},
   "outputs": [
    {
     "data": {
      "text/plain": [
       "WhisperForConditionalGeneration(\n",
       "  (model): WhisperModel(\n",
       "    (encoder): WhisperEncoder(\n",
       "      (conv1): Conv1d(80, 768, kernel_size=(3,), stride=(1,), padding=(1,))\n",
       "      (conv2): Conv1d(768, 768, kernel_size=(3,), stride=(2,), padding=(1,))\n",
       "      (embed_positions): Embedding(1500, 768)\n",
       "      (layers): ModuleList(\n",
       "        (0-11): 12 x WhisperEncoderLayer(\n",
       "          (self_attn): WhisperSdpaAttention(\n",
       "            (k_proj): Linear(in_features=768, out_features=768, bias=False)\n",
       "            (v_proj): Linear(in_features=768, out_features=768, bias=True)\n",
       "            (q_proj): Linear(in_features=768, out_features=768, bias=True)\n",
       "            (out_proj): Linear(in_features=768, out_features=768, bias=True)\n",
       "          )\n",
       "          (self_attn_layer_norm): LayerNorm((768,), eps=1e-05, elementwise_affine=True)\n",
       "          (activation_fn): GELUActivation()\n",
       "          (fc1): Linear(in_features=768, out_features=3072, bias=True)\n",
       "          (fc2): Linear(in_features=3072, out_features=768, bias=True)\n",
       "          (final_layer_norm): LayerNorm((768,), eps=1e-05, elementwise_affine=True)\n",
       "        )\n",
       "      )\n",
       "      (layer_norm): LayerNorm((768,), eps=1e-05, elementwise_affine=True)\n",
       "    )\n",
       "    (decoder): WhisperDecoder(\n",
       "      (embed_tokens): Embedding(51865, 768, padding_idx=50257)\n",
       "      (embed_positions): WhisperPositionalEmbedding(448, 768)\n",
       "      (layers): ModuleList(\n",
       "        (0-11): 12 x WhisperDecoderLayer(\n",
       "          (self_attn): WhisperSdpaAttention(\n",
       "            (k_proj): Linear(in_features=768, out_features=768, bias=False)\n",
       "            (v_proj): Linear(in_features=768, out_features=768, bias=True)\n",
       "            (q_proj): Linear(in_features=768, out_features=768, bias=True)\n",
       "            (out_proj): Linear(in_features=768, out_features=768, bias=True)\n",
       "          )\n",
       "          (activation_fn): GELUActivation()\n",
       "          (self_attn_layer_norm): LayerNorm((768,), eps=1e-05, elementwise_affine=True)\n",
       "          (encoder_attn): WhisperSdpaAttention(\n",
       "            (k_proj): Linear(in_features=768, out_features=768, bias=False)\n",
       "            (v_proj): Linear(in_features=768, out_features=768, bias=True)\n",
       "            (q_proj): Linear(in_features=768, out_features=768, bias=True)\n",
       "            (out_proj): Linear(in_features=768, out_features=768, bias=True)\n",
       "          )\n",
       "          (encoder_attn_layer_norm): LayerNorm((768,), eps=1e-05, elementwise_affine=True)\n",
       "          (fc1): Linear(in_features=768, out_features=3072, bias=True)\n",
       "          (fc2): Linear(in_features=3072, out_features=768, bias=True)\n",
       "          (final_layer_norm): LayerNorm((768,), eps=1e-05, elementwise_affine=True)\n",
       "        )\n",
       "      )\n",
       "      (layer_norm): LayerNorm((768,), eps=1e-05, elementwise_affine=True)\n",
       "    )\n",
       "  )\n",
       "  (proj_out): Linear(in_features=768, out_features=51865, bias=False)\n",
       ")"
      ]
     },
     "execution_count": 30,
     "metadata": {},
     "output_type": "execute_result"
    }
   ],
   "source": [
    "model"
   ]
  },
  {
   "cell_type": "code",
   "execution_count": 31,
   "id": "460d1e91",
   "metadata": {},
   "outputs": [],
   "source": [
    "lora_r = 8\n",
    "lora_alpha = 16\n",
    "peft_config = LoraConfig(\n",
    "    r=lora_r,\n",
    "    lora_alpha=lora_alpha,\n",
    "    lora_dropout=0.05, \n",
    "    bias='lora_only',\n",
    "    target_modules=['q_proj', 'v_proj', 'out_proj'],\n",
    "    task_type=None,\n",
    ")"
   ]
  },
  {
   "cell_type": "code",
   "execution_count": 32,
   "id": "24771f94",
   "metadata": {},
   "outputs": [],
   "source": [
    "model = get_peft_model(model, peft_config)"
   ]
  },
  {
   "cell_type": "code",
   "execution_count": 33,
   "id": "680728b2",
   "metadata": {},
   "outputs": [
    {
     "name": "stdout",
     "output_type": "stream",
     "text": [
      "trainable params: 1,410,048 || all params: 243,062,016 || trainable%: 0.5801\n"
     ]
    }
   ],
   "source": [
    "model.print_trainable_parameters()"
   ]
  },
  {
   "cell_type": "code",
   "execution_count": 34,
   "id": "8ec0c2af",
   "metadata": {},
   "outputs": [],
   "source": [
    "from transformers import Seq2SeqTrainingArguments"
   ]
  },
  {
   "cell_type": "code",
   "execution_count": 35,
   "id": "1bd6dc1a",
   "metadata": {},
   "outputs": [],
   "source": [
    "training_args = Seq2SeqTrainingArguments(output_dir='checkpoints',\n",
    "                                         eval_strategy='steps',\n",
    "                                         gradient_checkpointing=True,\n",
    "                                         per_device_train_batch_size=8,\n",
    "                                         gradient_accumulation_steps=4,\n",
    "                                         warmup_steps=50,\n",
    "                                         predict_with_generate=True,\n",
    "                                         generation_max_length=20,\n",
    "                                         per_device_eval_batch_size=4,\n",
    "                                         fp16=True,\n",
    "                                         save_steps=100,\n",
    "                                         eval_steps=100,\n",
    "                                         logging_dir=f'runs/{lora_r}_{lora_alpha}',\n",
    "                                         report_to=['tensorboard'],\n",
    "                                         load_best_model_at_end=True,\n",
    "                                         metric_for_best_model='wer',\n",
    "                                         num_train_epochs=2,\n",
    "                                         torch_empty_cache_steps=10,\n",
    "                                         dataloader_drop_last=True,\n",
    "                                         dataloader_num_workers=2,\n",
    "                                         dataloader_pin_memory=True,\n",
    "                                         logging_strategy='steps',\n",
    "                                         logging_steps=25,\n",
    "                                         optim='adamw_torch')"
   ]
  },
  {
   "cell_type": "code",
   "execution_count": 36,
   "id": "76552312",
   "metadata": {},
   "outputs": [
    {
     "name": "stderr",
     "output_type": "stream",
     "text": [
      "C:\\Users\\VICTUS\\AppData\\Local\\Temp\\ipykernel_23772\\3410224045.py:1: FutureWarning: `tokenizer` is deprecated and will be removed in version 5.0.0 for `Seq2SeqTrainer.__init__`. Use `processing_class` instead.\n",
      "  trainer = Seq2SeqTrainer(\n",
      "No label_names provided for model class `PeftModel`. Since `PeftModel` hides base models input arguments, if label_names is not given, label_names can't be set automatically within `Trainer`. Note that empty label_names list will be used instead.\n"
     ]
    }
   ],
   "source": [
    "trainer = Seq2SeqTrainer(\n",
    "    model=model,\n",
    "    train_dataset=common_voice['train'],\n",
    "    eval_dataset=common_voice['test'],\n",
    "    args=training_args,\n",
    "    data_collator=DataCollatorForSeqToSeqPadding(processor=processor),\n",
    "    compute_metrics=metric,\n",
    "    tokenizer=processor.feature_extractor\n",
    ")"
   ]
  },
  {
   "cell_type": "code",
   "execution_count": null,
   "id": "0cd5ed5f",
   "metadata": {},
   "outputs": [],
   "source": [
    "trainer.train()"
   ]
  },
  {
   "cell_type": "code",
   "execution_count": null,
   "id": "52564e01",
   "metadata": {},
   "outputs": [],
   "source": []
  }
 ],
 "metadata": {
  "kernelspec": {
   "display_name": ".venv",
   "language": "python",
   "name": "python3"
  },
  "language_info": {
   "codemirror_mode": {
    "name": "ipython",
    "version": 3
   },
   "file_extension": ".py",
   "mimetype": "text/x-python",
   "name": "python",
   "nbconvert_exporter": "python",
   "pygments_lexer": "ipython3",
   "version": "3.12.10"
  }
 },
 "nbformat": 4,
 "nbformat_minor": 5
}
