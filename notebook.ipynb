{
 "cells": [
  {
   "cell_type": "code",
   "execution_count": null,
   "id": "04cc562d",
   "metadata": {},
   "outputs": [],
   "source": [
    "from datasets import load_dataset, DatasetDict\n",
    "from torch.utils.data import DataLoader\n",
    "from torchaudio import load\n",
    "import torch\n",
    "\n",
    "# Load Whisper processor\n",
    "from transformers import WhisperProcessor, WhisperFeatureExtractor, WhisperTokenizer\n",
    "from transformers import WhisperForConditionalGeneration\n",
    "from transformers import Seq2SeqTrainingArguments, Seq2SeqTrainer\n",
    "\n",
    "from dotenv import load_dotenv\n",
    "from huggingface_hub import login\n",
    "import os\n"
   ]
  },
  {
   "cell_type": "code",
   "execution_count": 2,
   "id": "ffea934c",
   "metadata": {},
   "outputs": [],
   "source": [
    "load_dotenv()\n",
    "login_token = os.getenv('HuggingFaceToken')\n",
    "\n",
    "login(login_token)"
   ]
  },
  {
   "cell_type": "code",
   "execution_count": 3,
   "id": "31731923",
   "metadata": {},
   "outputs": [
    {
     "name": "stdout",
     "output_type": "stream",
     "text": [
      "DatasetDict({\n",
      "    train: Dataset({\n",
      "        features: ['client_id', 'path', 'audio', 'sentence', 'up_votes', 'down_votes', 'age', 'gender', 'accent', 'locale', 'segment', 'variant'],\n",
      "        num_rows: 2023\n",
      "    })\n",
      "    test: Dataset({\n",
      "        features: ['client_id', 'path', 'audio', 'sentence', 'up_votes', 'down_votes', 'age', 'gender', 'accent', 'locale', 'segment', 'variant'],\n",
      "        num_rows: 710\n",
      "    })\n",
      "})\n"
     ]
    }
   ],
   "source": [
    "common_voice = DatasetDict()\n",
    "\n",
    "common_voice[\"train\"] = load_dataset(\n",
    "    \"mozilla-foundation/common_voice_17_0\", \"ml\", split=\"train+validation\", trust_remote_code=True\n",
    ")\n",
    "common_voice[\"test\"] = load_dataset(\n",
    "    \"mozilla-foundation/common_voice_17_0\", \"ml\", split=\"test\", trust_remote_code=True\n",
    ")\n",
    "\n",
    "print(common_voice)"
   ]
  },
  {
   "cell_type": "code",
   "execution_count": 4,
   "id": "788cad4a",
   "metadata": {},
   "outputs": [],
   "source": [
    "# remove unwanted features\n",
    "common_voice = common_voice.select_columns(['audio', 'sentence'])"
   ]
  },
  {
   "cell_type": "code",
   "execution_count": 5,
   "id": "71afaaba",
   "metadata": {},
   "outputs": [
    {
     "name": "stdout",
     "output_type": "stream",
     "text": [
      "{'path': 'C:\\\\Users\\\\VICTUS\\\\.cache\\\\huggingface\\\\datasets\\\\downloads\\\\extracted\\\\3e7b12b0fa0deddeccc4a37a644801109d30fe7dda8b39a953688d0be0744a2f\\\\ml_train_0/common_voice_ml_37003897.mp3', 'array': array([0.00000000e+00, 0.00000000e+00, 0.00000000e+00, ...,\n",
      "       1.33694380e-06, 6.72575652e-07, 1.44025307e-07], shape=(150336,)), 'sampling_rate': 48000}\n"
     ]
    }
   ],
   "source": [
    "print(common_voice['train'][0]['audio'])"
   ]
  },
  {
   "cell_type": "code",
   "execution_count": 6,
   "id": "6d5b848d",
   "metadata": {},
   "outputs": [],
   "source": [
    "# 48kHz -> 16kHz\n",
    "from datasets import Audio\n",
    "common_voice = common_voice.cast_column(\"audio\", Audio(sampling_rate=16000))"
   ]
  },
  {
   "cell_type": "code",
   "execution_count": 7,
   "id": "f6c6b187",
   "metadata": {},
   "outputs": [
    {
     "data": {
      "text/plain": [
       "array([ 0.00000000e+00,  0.00000000e+00,  0.00000000e+00, ...,\n",
       "       -1.61271237e-06, -1.26397367e-06,  1.32478658e-06], shape=(50112,))"
      ]
     },
     "execution_count": 7,
     "metadata": {},
     "output_type": "execute_result"
    }
   ],
   "source": [
    "common_voice['train'][0]['audio']['array']"
   ]
  },
  {
   "cell_type": "code",
   "execution_count": 8,
   "id": "9f35b2e7",
   "metadata": {},
   "outputs": [],
   "source": [
    "# def collate_fuc(batch):\n",
    "#     print(len(batch))\n",
    "#     print(batch[0].keys())\n",
    "# data_loader = DataLoader(common_voice['train'], batch_size=3, shuffle=True, collate_fn=collate_fuc)"
   ]
  },
  {
   "cell_type": "code",
   "execution_count": 9,
   "id": "1d45832d",
   "metadata": {},
   "outputs": [],
   "source": [
    "# for i in data_loader:\n",
    "#     break"
   ]
  },
  {
   "cell_type": "code",
   "execution_count": 10,
   "id": "b55252f5",
   "metadata": {},
   "outputs": [],
   "source": [
    "# filtering audio len > 30 sec  "
   ]
  },
  {
   "cell_type": "code",
   "execution_count": 11,
   "id": "a75ce08e",
   "metadata": {},
   "outputs": [],
   "source": [
    "# whisper proccessor wrap whisperFeature extractor for audio and whispertokenizer for text labels as one processor \n",
    "feature_extractor = WhisperFeatureExtractor.from_pretrained('openai/whisper-small', task='transcribe', language='malayalam')\n",
    "tokenizer = WhisperTokenizer.from_pretrained('openai/whisper-small', task='transcribe', language='malayalam')\n",
    "processor = WhisperProcessor.from_pretrained('openai/whisper-small', task='transcribe', language='malayalam')"
   ]
  },
  {
   "cell_type": "code",
   "execution_count": 12,
   "id": "6eea5ca5",
   "metadata": {},
   "outputs": [],
   "source": [
    "# sample_tokens = tokenizer.encode('ഇല്ല മോനേ')\n",
    "# tokenizer.decode(sample_tokens)"
   ]
  },
  {
   "cell_type": "code",
   "execution_count": 13,
   "id": "db6558f9",
   "metadata": {},
   "outputs": [
    {
     "name": "stdout",
     "output_type": "stream",
     "text": [
      "Audio:tensor([[ 0.0000,  0.0000,  0.0000,  ...,  0.0004,  0.0003, -0.0002]])\n",
      "Sampling : 48000\n"
     ]
    }
   ],
   "source": [
    "audio, sampling = load('record_out.wav')\n",
    "print(f\"Audio:{audio}\")\n",
    "print(f\"Sampling : {sampling}\")\n",
    "audio = audio[0] # convert to 1d array (single audio should 1d array if it is mono, if stereo , we use two array for audio )\n",
    "\n",
    "text = 'ഇല്ല മോനേ'\n",
    "batch = processor(audio=audio, text=text, sampling_rate=16000) "
   ]
  },
  {
   "cell_type": "code",
   "execution_count": 14,
   "id": "7a621160",
   "metadata": {},
   "outputs": [],
   "source": [
    "# Prepare data\n",
    "def prepare_data(batch):\n",
    "    # processor have both feature extractor for audio and tokenizer for text, so we just pass both of theem\n",
    "    batch = processor(audio=batch['audio']['array'],\n",
    "                      text=batch['sentence'],\n",
    "                      sampling_rate=processor.feature_extractor.sampling_rate)\n",
    "    return batch"
   ]
  },
  {
   "cell_type": "code",
   "execution_count": 15,
   "id": "6d9ce986",
   "metadata": {},
   "outputs": [],
   "source": [
    "common_voice = common_voice.map(prepare_data, batched=False)"
   ]
  },
  {
   "cell_type": "code",
   "execution_count": 17,
   "id": "bb9dd23b",
   "metadata": {},
   "outputs": [],
   "source": [
    "common_voice = common_voice.select_columns(['input_features', 'labels'])"
   ]
  },
  {
   "cell_type": "code",
   "execution_count": 19,
   "id": "7f734de1",
   "metadata": {},
   "outputs": [
    {
     "data": {
      "text/plain": [
       "torch.Size([1, 80, 3000])"
      ]
     },
     "execution_count": 19,
     "metadata": {},
     "output_type": "execute_result"
    }
   ],
   "source": [
    "torch.tensor(common_voice['train'][0]['input_features']).shape # (1, 80, 3000)"
   ]
  },
  {
   "cell_type": "markdown",
   "id": "291e40c5",
   "metadata": {},
   "source": [
    "Dataloader takes random datapoints, here it will look like {input_feature:.., labels}, when batch enabled it will be like [{inp:.., lable:..}, {inp: .., label:..}], we need to use data collator for pad them and join them"
   ]
  },
  {
   "cell_type": "code",
   "execution_count": 20,
   "id": "3f6badd5",
   "metadata": {},
   "outputs": [],
   "source": [
    "# feature_extractor.pad(common_voice['train'][:2])"
   ]
  },
  {
   "cell_type": "code",
   "execution_count": 53,
   "id": "94f20449",
   "metadata": {},
   "outputs": [
    {
     "data": {
      "text/plain": [
       "Dataset({\n",
       "    features: ['input_features', 'labels'],\n",
       "    num_rows: 2023\n",
       "})"
      ]
     },
     "execution_count": 53,
     "metadata": {},
     "output_type": "execute_result"
    }
   ],
   "source": [
    "common_voice['train']"
   ]
  },
  {
   "cell_type": "code",
   "execution_count": 117,
   "id": "b47615af",
   "metadata": {},
   "outputs": [],
   "source": [
    "# Data Collator for padding\n",
    "\n",
    "class DataCollatorForSeqToSeqPadding:\n",
    "    def __init__(self, processor: WhisperProcessor):\n",
    "        self.processor = processor\n",
    "        \n",
    "    def __call__(self, batch):\n",
    "        # batch = [ {'input_feature':[], labels:[]}, {} ...]    \n",
    "        input_features = [{\"input_features\" : data['input_features'][0]} for data in batch]\n",
    "        labels = [{\"input_ids\" : data['labels']} for data in batch]\n",
    "    \n",
    "        # feature extractor from hugging face already support padding to {'input_features':[]}   \n",
    "        # padding using feature extractor for audio and tokenizer for labels\n",
    "        batch = self.processor.feature_extractor.pad(input_features, return_tensors='pt') # created a batch object , later will add label to this too, that's how huggingface model expect data {'input_features':[], labels:[]}\n",
    "        \n",
    "        # whisper tokenizer.pad will check the {'input_ids':[]} for padding and return in same forma\n",
    "        labels = self.processor.tokenizer.pad(labels, return_tensors='pt')\n",
    "    \n",
    "    \n",
    "        # since we are using hugging face model we don't need to stack the tensor cuz the hugging face (whisper here) model expect input like {'input_features':[], labels:[]}\n",
    "        # tensor stacking\n",
    "        # input_features = torch.stack(input_features, dim=0)\n",
    "        # labels = torch.stack(labels) # have \n",
    "        \n",
    "        \n",
    "        labels = labels['input_ids'].masked_fill(labels['attention_mask'].eq(0), -100)\n",
    "        batch['labels'] = labels\n",
    "            \n",
    "        \n",
    "        return batch\n",
    "        "
   ]
  },
  {
   "cell_type": "code",
   "execution_count": 118,
   "id": "cd68df3a",
   "metadata": {},
   "outputs": [
    {
     "ename": "NameError",
     "evalue": "name 'WhisperForConditionalGeneration' is not defined",
     "output_type": "error",
     "traceback": [
      "\u001b[31m---------------------------------------------------------------------------\u001b[39m",
      "\u001b[31mNameError\u001b[39m                                 Traceback (most recent call last)",
      "\u001b[36mCell\u001b[39m\u001b[36m \u001b[39m\u001b[32mIn[118]\u001b[39m\u001b[32m, line 2\u001b[39m\n\u001b[32m      1\u001b[39m \u001b[38;5;66;03m# Choose model size here\u001b[39;00m\n\u001b[32m----> \u001b[39m\u001b[32m2\u001b[39m model = \u001b[43mWhisperForConditionalGeneration\u001b[49m.from_pretrained(\u001b[33m\"\u001b[39m\u001b[33mopenai/whisper-medium\u001b[39m\u001b[33m\"\u001b[39m)\n\u001b[32m      4\u001b[39m \u001b[38;5;66;03m# forced decoder ids automatically add tokens at specified position (1, tokenizer.bos_token), so at decoder time the model automaticall generate it\u001b[39;00m\n\u001b[32m      5\u001b[39m model.config.forced_decoder_ids = \u001b[38;5;28;01mNone\u001b[39;00m\n",
      "\u001b[31mNameError\u001b[39m: name 'WhisperForConditionalGeneration' is not defined"
     ]
    }
   ],
   "source": [
    "# Choose model size here\n",
    "model = WhisperForConditionalGeneration.from_pretrained(\"openai/whisper-medium\")\n",
    "\n",
    "# forced decoder ids automatically add tokens at specified position (1, tokenizer.bos_token), so at decoder time the model automaticall generate it\n",
    "model.config.forced_decoder_ids = None\n",
    "model.config.suppress_tokens = []"
   ]
  },
  {
   "cell_type": "code",
   "execution_count": 119,
   "id": "8abe1e0a",
   "metadata": {},
   "outputs": [],
   "source": [
    "# common_voice['train'][0]['labels']\n"
   ]
  },
  {
   "cell_type": "code",
   "execution_count": null,
   "id": "380221a8",
   "metadata": {},
   "outputs": [],
   "source": [
    "collate_fn = DataCollatorForSeqToSeqPadding(processor=processor)\n",
    "\n",
    "# # data loader for just checking the data collator, seqtoseq trainer does not need dataloader (inbuilt)\n",
    "# data_loader = DataLoader(dataset=common_voice['train'],\n",
    "#                          collate_fn=collate_fn,\n",
    "#                          batch_size=2,\n",
    "#                          shuffle=True, \n",
    "#                          drop_last=True)"
   ]
  },
  {
   "cell_type": "code",
   "execution_count": null,
   "id": "daa93162",
   "metadata": {},
   "outputs": [
    {
     "name": "stdout",
     "output_type": "stream",
     "text": [
      "torch.Size([2, 80, 3000])\n"
     ]
    }
   ],
   "source": [
    "# for batch in data_loader:\n",
    "#     print(batch['input_features'].shape) # torch.Size([2, 80, 3000]), Yes now it's coming as batch size and not in (2, 1, 80, 3000)\n",
    "#     break"
   ]
  },
  {
   "cell_type": "code",
   "execution_count": null,
   "id": "53b3c334",
   "metadata": {},
   "outputs": [
    {
     "data": {
      "text/plain": [
       "[tensor([50258, 50296, 50359, 50363, 46503,   229, 46503,   110,   156,   113,\n",
       "           235, 46503,   110,   220, 46503,   106,   156,   113,   233, 46503,\n",
       "           101,   156,   113,   229, 50257]),\n",
       " tensor([50258, 50296, 50359, 50363, 46503,   106,   156,   113,   228, 46503,\n",
       "           107,   156,   113,   235,   220, 46503,   106, 46503,   122, 46503,\n",
       "           116,   156, 23560,   156,   113,   235,   156, 23560, 46503,   123,\n",
       "           156,   113,   121,   220, 46503,   228, 46503,   109,   156,   113,\n",
       "           235,   220, 46503,    99, 46503,   114, 46503,   122, 46503,   224,\n",
       "         46503,   114, 46503,   224,   220, 46503,   228, 46503,   109,   156,\n",
       "           113,   235,   220, 46503,   114,   156, 23560, 46503,   106, 46503,\n",
       "           122, 46503,   101, 46503,   106, 46503,   122, 46503,    96,   156,\n",
       "           113,   235,   220, 46503,   113, 46503,   123, 46503,   110, 46503,\n",
       "           243,   156,   113,   235, 46503,   243, 46503,   107, 46503,   109,\n",
       "           156,   113,   235, 46503,   109, 46503,   224,    13, 50257]),\n",
       " tensor([50258, 50296, 50359, 50363, 46503,   227, 46503,   113,   156,   113,\n",
       "           120, 46503,   243,   156,   113,   235, 46503,   243,   156,   113,\n",
       "           235,   220, 46503,   243, 46503,   103,   156,   113,   235, 46503,\n",
       "           103,   156,   113,   121,   220, 46503,   241, 46503,   253, 46503,\n",
       "           123, 46503,   243,   156,   113,   235, 46503,   243, 46503,   122,\n",
       "         46503,   101,   156,   113,   223, 46503,   224,   220, 46503,   106,\n",
       "         46503,   109,   156,   113,   235, 46503,   109,   156,   113,   223,\n",
       "         46503,   224,   220, 46503,   227, 46503,   109, 46503,   123, 46503,\n",
       "           107, 46503,   123, 46503,   110,   156,   113,   235, 46503,   110,\n",
       "         50257]),\n",
       " tensor([50258, 50296, 50359, 50363, 46503,   101, 46503,   110,   156,   113,\n",
       "           235, 46503,   110,   220, 46503,   108, 46503,   116, 46503,   106,\n",
       "         46503,   122, 46503,   107, 46503,   123, 46503,   108,   156,   113,\n",
       "           223, 46503,   101,   156,   113,   235, 46503,   101,   156,   113,\n",
       "           223, 50257]),\n",
       " tensor([50258, 50296, 50359, 50363, 46503,   227, 46503,   248,   156,   113,\n",
       "           235, 46503,   249, 46503,   101,   156,   113,   235,   220, 46503,\n",
       "           243, 46503,   122, 46503,   103,   156,   113,   235, 46503,   103,\n",
       "         46503,   123, 46503,   107, 46503,   123,   156,   113,   121,   220,\n",
       "         46503,   106, 46503,   100,   156,   113,   223, 46503,   108, 46503,\n",
       "           224,   220, 46503,   113,   156,   113,   229, 46503,    96,   156,\n",
       "           113,   233,    30, 50257])]"
      ]
     },
     "execution_count": 69,
     "metadata": {},
     "output_type": "execute_result"
    }
   ],
   "source": [
    "# i.shape -> torch.Size([5, 80, 3000])\n",
    "labels"
   ]
  },
  {
   "cell_type": "code",
   "execution_count": 58,
   "id": "25e8fccc",
   "metadata": {},
   "outputs": [
    {
     "name": "stderr",
     "output_type": "stream",
     "text": [
      "It is strongly recommended to pass the `sampling_rate` argument to `WhisperFeatureExtractor()`. Failing to do so can result in silent errors that might be hard to debug.\n"
     ]
    },
    {
     "ename": "TypeError",
     "evalue": "float() argument must be a string or a real number, not 'dict'",
     "output_type": "error",
     "traceback": [
      "\u001b[31m---------------------------------------------------------------------------\u001b[39m",
      "\u001b[31mTypeError\u001b[39m                                 Traceback (most recent call last)",
      "\u001b[36mCell\u001b[39m\u001b[36m \u001b[39m\u001b[32mIn[58]\u001b[39m\u001b[32m, line 1\u001b[39m\n\u001b[32m----> \u001b[39m\u001b[32m1\u001b[39m \u001b[43mfeature_extractor\u001b[49m\u001b[43m(\u001b[49m\u001b[43mcommon_voice\u001b[49m\u001b[43m[\u001b[49m\u001b[33;43m'\u001b[39;49m\u001b[33;43mtrain\u001b[39;49m\u001b[33;43m'\u001b[39;49m\u001b[43m]\u001b[49m\u001b[43m[\u001b[49m\u001b[43m:\u001b[49m\u001b[32;43m2\u001b[39;49m\u001b[43m]\u001b[49m\u001b[43m[\u001b[49m\u001b[33;43m'\u001b[39;49m\u001b[33;43maudio\u001b[39;49m\u001b[33;43m'\u001b[39;49m\u001b[43m]\u001b[49m\u001b[43m)\u001b[49m\n",
      "\u001b[36mFile \u001b[39m\u001b[32md:\\Machine Learning\\INTERNSHIP\\Whisper-Malayalam-Finetuning\\.venv\\Lib\\site-packages\\transformers\\models\\whisper\\feature_extraction_whisper.py:281\u001b[39m, in \u001b[36mWhisperFeatureExtractor.__call__\u001b[39m\u001b[34m(self, raw_speech, truncation, pad_to_multiple_of, return_tensors, return_attention_mask, padding, max_length, sampling_rate, do_normalize, device, return_token_timestamps, **kwargs)\u001b[39m\n\u001b[32m    279\u001b[39m     raw_speech = [np.asarray([speech], dtype=np.float32).T \u001b[38;5;28;01mfor\u001b[39;00m speech \u001b[38;5;129;01min\u001b[39;00m raw_speech]\n\u001b[32m    280\u001b[39m \u001b[38;5;28;01melif\u001b[39;00m \u001b[38;5;129;01mnot\u001b[39;00m is_batched \u001b[38;5;129;01mand\u001b[39;00m \u001b[38;5;129;01mnot\u001b[39;00m \u001b[38;5;28misinstance\u001b[39m(raw_speech, np.ndarray):\n\u001b[32m--> \u001b[39m\u001b[32m281\u001b[39m     raw_speech = \u001b[43mnp\u001b[49m\u001b[43m.\u001b[49m\u001b[43masarray\u001b[49m\u001b[43m(\u001b[49m\u001b[43mraw_speech\u001b[49m\u001b[43m,\u001b[49m\u001b[43m \u001b[49m\u001b[43mdtype\u001b[49m\u001b[43m=\u001b[49m\u001b[43mnp\u001b[49m\u001b[43m.\u001b[49m\u001b[43mfloat32\u001b[49m\u001b[43m)\u001b[49m\n\u001b[32m    282\u001b[39m \u001b[38;5;28;01melif\u001b[39;00m \u001b[38;5;28misinstance\u001b[39m(raw_speech, np.ndarray) \u001b[38;5;129;01mand\u001b[39;00m raw_speech.dtype \u001b[38;5;129;01mis\u001b[39;00m np.dtype(np.float64):\n\u001b[32m    283\u001b[39m     raw_speech = raw_speech.astype(np.float32)\n",
      "\u001b[31mTypeError\u001b[39m: float() argument must be a string or a real number, not 'dict'"
     ]
    }
   ],
   "source": [
    "feature_extractor(common_voice['train'][:2]['audio'])"
   ]
  },
  {
   "cell_type": "code",
   "execution_count": null,
   "id": "798841f5",
   "metadata": {},
   "outputs": [],
   "source": []
  }
 ],
 "metadata": {
  "kernelspec": {
   "display_name": ".venv",
   "language": "python",
   "name": "python3"
  },
  "language_info": {
   "codemirror_mode": {
    "name": "ipython",
    "version": 3
   },
   "file_extension": ".py",
   "mimetype": "text/x-python",
   "name": "python",
   "nbconvert_exporter": "python",
   "pygments_lexer": "ipython3",
   "version": "3.12.10"
  }
 },
 "nbformat": 4,
 "nbformat_minor": 5
}
