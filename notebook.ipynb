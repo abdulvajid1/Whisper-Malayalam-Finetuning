{
 "cells": [
  {
   "cell_type": "code",
   "execution_count": 34,
   "id": "04cc562d",
   "metadata": {},
   "outputs": [],
   "source": [
    "from datasets import load_dataset, DatasetDict\n",
    "from torch.utils.data import DataLoader\n",
    "from torchaudio import load\n",
    "import torch\n",
    "\n",
    "# Load Whisper processor\n",
    "from transformers import WhisperProcessor, WhisperFeatureExtractor, WhisperTokenizer\n",
    "\n",
    "from dotenv import load_dotenv\n",
    "from huggingface_hub import login\n",
    "import os\n"
   ]
  },
  {
   "cell_type": "code",
   "execution_count": 2,
   "id": "ffea934c",
   "metadata": {},
   "outputs": [],
   "source": [
    "load_dotenv()\n",
    "login_token = os.getenv('HuggingFaceToken')\n",
    "\n",
    "login(login_token)"
   ]
  },
  {
   "cell_type": "code",
   "execution_count": 3,
   "id": "31731923",
   "metadata": {},
   "outputs": [
    {
     "name": "stdout",
     "output_type": "stream",
     "text": [
      "DatasetDict({\n",
      "    train: Dataset({\n",
      "        features: ['client_id', 'path', 'audio', 'sentence', 'up_votes', 'down_votes', 'age', 'gender', 'accent', 'locale', 'segment', 'variant'],\n",
      "        num_rows: 2023\n",
      "    })\n",
      "    test: Dataset({\n",
      "        features: ['client_id', 'path', 'audio', 'sentence', 'up_votes', 'down_votes', 'age', 'gender', 'accent', 'locale', 'segment', 'variant'],\n",
      "        num_rows: 710\n",
      "    })\n",
      "})\n"
     ]
    }
   ],
   "source": [
    "common_voice = DatasetDict()\n",
    "\n",
    "common_voice[\"train\"] = load_dataset(\n",
    "    \"mozilla-foundation/common_voice_17_0\", \"ml\", split=\"train+validation\", trust_remote_code=True\n",
    ")\n",
    "common_voice[\"test\"] = load_dataset(\n",
    "    \"mozilla-foundation/common_voice_17_0\", \"ml\", split=\"test\", trust_remote_code=True\n",
    ")\n",
    "\n",
    "print(common_voice)"
   ]
  },
  {
   "cell_type": "code",
   "execution_count": 5,
   "id": "788cad4a",
   "metadata": {},
   "outputs": [],
   "source": [
    "# remove unwanted features\n",
    "common_voice = common_voice.select_columns(['audio', 'sentence'])"
   ]
  },
  {
   "cell_type": "code",
   "execution_count": 6,
   "id": "71afaaba",
   "metadata": {},
   "outputs": [
    {
     "name": "stdout",
     "output_type": "stream",
     "text": [
      "{'path': 'C:\\\\Users\\\\VICTUS\\\\.cache\\\\huggingface\\\\datasets\\\\downloads\\\\extracted\\\\3e7b12b0fa0deddeccc4a37a644801109d30fe7dda8b39a953688d0be0744a2f\\\\ml_train_0/common_voice_ml_37003897.mp3', 'array': array([0.00000000e+00, 0.00000000e+00, 0.00000000e+00, ...,\n",
      "       1.33694380e-06, 6.72575652e-07, 1.44025307e-07], shape=(150336,)), 'sampling_rate': 48000}\n"
     ]
    }
   ],
   "source": [
    "print(common_voice['train'][0]['audio'])"
   ]
  },
  {
   "cell_type": "code",
   "execution_count": 7,
   "id": "6d5b848d",
   "metadata": {},
   "outputs": [],
   "source": [
    "# 48kHz -> 16kHz\n",
    "from datasets import Audio\n",
    "common_voice = common_voice.cast_column(\"audio\", Audio(sampling_rate=16000))"
   ]
  },
  {
   "cell_type": "code",
   "execution_count": 8,
   "id": "f6c6b187",
   "metadata": {},
   "outputs": [
    {
     "data": {
      "text/plain": [
       "array([ 0.00000000e+00,  0.00000000e+00,  0.00000000e+00, ...,\n",
       "       -1.61271237e-06, -1.26397367e-06,  1.32478658e-06], shape=(50112,))"
      ]
     },
     "execution_count": 8,
     "metadata": {},
     "output_type": "execute_result"
    }
   ],
   "source": [
    "common_voice['train'][0]['audio']['array']"
   ]
  },
  {
   "cell_type": "code",
   "execution_count": 9,
   "id": "9f35b2e7",
   "metadata": {},
   "outputs": [],
   "source": [
    "# def collate_fuc(batch):\n",
    "#     print(len(batch))\n",
    "#     print(batch[0].keys())\n",
    "# data_loader = DataLoader(common_voice['train'], batch_size=3, shuffle=True, collate_fn=collate_fuc)"
   ]
  },
  {
   "cell_type": "code",
   "execution_count": 10,
   "id": "1d45832d",
   "metadata": {},
   "outputs": [],
   "source": [
    "# for i in data_loader:\n",
    "#     break"
   ]
  },
  {
   "cell_type": "code",
   "execution_count": 11,
   "id": "b55252f5",
   "metadata": {},
   "outputs": [],
   "source": [
    "# filtering audio len > 30 sec  "
   ]
  },
  {
   "cell_type": "code",
   "execution_count": 12,
   "id": "a75ce08e",
   "metadata": {},
   "outputs": [],
   "source": [
    "# whisper proccessor wrap whisperFeature extractor for audio and whispertokenizer for text labels as one processor \n",
    "feature_extractor = WhisperFeatureExtractor.from_pretrained('openai/whisper-small', task='transcribe', language='malayalam')\n",
    "tokenizer = WhisperTokenizer.from_pretrained('openai/whisper-small', task='transcribe', language='malayalam')\n",
    "processor = WhisperProcessor.from_pretrained('openai/whisper-small', task='transcribe', language='malayalam')"
   ]
  },
  {
   "cell_type": "code",
   "execution_count": 13,
   "id": "6eea5ca5",
   "metadata": {},
   "outputs": [],
   "source": [
    "# sample_tokens = tokenizer.encode('ഇല്ല മോനേ')\n",
    "# tokenizer.decode(sample_tokens)"
   ]
  },
  {
   "cell_type": "code",
   "execution_count": 14,
   "id": "db6558f9",
   "metadata": {},
   "outputs": [
    {
     "name": "stdout",
     "output_type": "stream",
     "text": [
      "Audio:tensor([[ 0.0000,  0.0000,  0.0000,  ...,  0.0004,  0.0003, -0.0002]])\n",
      "Sampling : 48000\n"
     ]
    }
   ],
   "source": [
    "audio, sampling = load('record_out.wav')\n",
    "print(f\"Audio:{audio}\")\n",
    "print(f\"Sampling : {sampling}\")\n",
    "audio = audio[0] # convert to 1d array (single audio should 1d array if it is mono, if stereo , we use two array for audio )\n",
    "\n",
    "text = 'ഇല്ല മോനേ'\n",
    "batch = processor(audio=audio, text=text, sampling_rate=16000) "
   ]
  },
  {
   "cell_type": "code",
   "execution_count": 15,
   "id": "7a621160",
   "metadata": {},
   "outputs": [],
   "source": [
    "# Prepare data\n",
    "def prepare_data(batch):\n",
    "    # processor have both feature extractor for audio and tokenizer for text, so we just pass both of theem\n",
    "    batch = processor(audio=batch['audio']['array'],\n",
    "                      text=batch['sentence'],\n",
    "                      sampling_rate=processor.feature_extractor.sampling_rate)\n",
    "    return batch"
   ]
  },
  {
   "cell_type": "code",
   "execution_count": 16,
   "id": "6d9ce986",
   "metadata": {},
   "outputs": [
    {
     "data": {
      "application/vnd.jupyter.widget-view+json": {
       "model_id": "d031f229769c4fcea5fadc6589365857",
       "version_major": 2,
       "version_minor": 0
      },
      "text/plain": [
       "Map:   0%|          | 0/2023 [00:00<?, ? examples/s]"
      ]
     },
     "metadata": {},
     "output_type": "display_data"
    },
    {
     "data": {
      "application/vnd.jupyter.widget-view+json": {
       "model_id": "cbb9ece1c17a4d70b88a878122805fa2",
       "version_major": 2,
       "version_minor": 0
      },
      "text/plain": [
       "Map:   0%|          | 0/710 [00:00<?, ? examples/s]"
      ]
     },
     "metadata": {},
     "output_type": "display_data"
    }
   ],
   "source": [
    "common_voice = common_voice.map(prepare_data, batched=False)"
   ]
  },
  {
   "cell_type": "code",
   "execution_count": 15,
   "id": "8d9ef8e9",
   "metadata": {},
   "outputs": [
    {
     "data": {
      "text/plain": [
       "DatasetDict({\n",
       "    train: Dataset({\n",
       "        features: ['audio', 'sentence', 'input_features', 'labels'],\n",
       "        num_rows: 2023\n",
       "    })\n",
       "    test: Dataset({\n",
       "        features: ['audio', 'sentence', 'input_features', 'labels'],\n",
       "        num_rows: 710\n",
       "    })\n",
       "})"
      ]
     },
     "execution_count": 15,
     "metadata": {},
     "output_type": "execute_result"
    }
   ],
   "source": [
    "common_voice"
   ]
  },
  {
   "cell_type": "code",
   "execution_count": 17,
   "id": "bb9dd23b",
   "metadata": {},
   "outputs": [],
   "source": [
    "common_voice = common_voice.select_columns(['input_features', 'labels'])"
   ]
  },
  {
   "cell_type": "code",
   "execution_count": null,
   "id": "7f734de1",
   "metadata": {},
   "outputs": [],
   "source": [
    "common_voice['train'][0]['input_features'] # (1, 80, 3000)"
   ]
  },
  {
   "cell_type": "markdown",
   "id": "291e40c5",
   "metadata": {},
   "source": [
    "Dataloader takes random datapoints, here it will look like {input_feature:.., labels}, when batch enabled it will be like [{inp:.., lable:..}, {inp: .., label:..}], we need to use data collator for pad them and join them"
   ]
  },
  {
   "cell_type": "code",
   "execution_count": null,
   "id": "b47615af",
   "metadata": {},
   "outputs": [],
   "source": [
    "# Data Collator for padding\n",
    "\n",
    "class DataCollatorForSeqToSeqPadding:\n",
    "    def __init__(self, processor):\n",
    "        self.processor = processor\n",
    "        \n",
    "    def __call__(self, batch):\n",
    "        # batch = [{}, {} ...]\n",
    "        \n",
    "        input_features = []\n",
    "        labels = []\n",
    "        # convert to list -> list of list\n",
    "        for data in batch:\n",
    "            features = torch.tensor(data['input_features']).squeeze(0) # (1, 80, 3000) -> (80, 3000)\n",
    "            input_features.append(features)\n",
    "            labels.append(torch.tensor(data['labels']))\n",
    "    \n",
    "        # padding\n",
    "            \n",
    "    \n",
    "        # tensor stacking\n",
    "        input_features = torch.stack(input_features, dim=0)\n",
    "        labels = torch.stack(labels) # have \n",
    "            \n",
    "        \n",
    "        return input_features, labels\n",
    "        "
   ]
  },
  {
   "cell_type": "code",
   "execution_count": 63,
   "id": "380221a8",
   "metadata": {},
   "outputs": [],
   "source": [
    "collate_fn = DataCollatorForSeqToSeqPadding(processor=processor)\n",
    "data_loader = DataLoader(dataset=common_voice['train'],\n",
    "                         collate_fn=collate_fn,\n",
    "                         batch_size=5,\n",
    "                         shuffle=True, \n",
    "                         drop_last=True)"
   ]
  },
  {
   "cell_type": "code",
   "execution_count": 68,
   "id": "daa93162",
   "metadata": {},
   "outputs": [
    {
     "ename": "RuntimeError",
     "evalue": "stack expects each tensor to be equal size, but got [78] at entry 0 and [117] at entry 1",
     "output_type": "error",
     "traceback": [
      "\u001b[31m---------------------------------------------------------------------------\u001b[39m",
      "\u001b[31mRuntimeError\u001b[39m                              Traceback (most recent call last)",
      "\u001b[36mCell\u001b[39m\u001b[36m \u001b[39m\u001b[32mIn[68]\u001b[39m\u001b[32m, line 1\u001b[39m\n\u001b[32m----> \u001b[39m\u001b[32m1\u001b[39m \u001b[38;5;28;43;01mfor\u001b[39;49;00m\u001b[43m \u001b[49m\u001b[43mi\u001b[49m\u001b[43m,\u001b[49m\u001b[43m \u001b[49m\u001b[43mlabels\u001b[49m\u001b[43m \u001b[49m\u001b[38;5;129;43;01min\u001b[39;49;00m\u001b[43m \u001b[49m\u001b[43mdata_loader\u001b[49m\u001b[43m:\u001b[49m\n\u001b[32m      2\u001b[39m \u001b[43m    \u001b[49m\u001b[38;5;28;43;01mbreak\u001b[39;49;00m\n",
      "\u001b[36mFile \u001b[39m\u001b[32md:\\Machine Learning\\INTERNSHIP\\Whisper-Malayalam-Finetuning\\.venv\\Lib\\site-packages\\torch\\utils\\data\\dataloader.py:733\u001b[39m, in \u001b[36m_BaseDataLoaderIter.__next__\u001b[39m\u001b[34m(self)\u001b[39m\n\u001b[32m    730\u001b[39m \u001b[38;5;28;01mif\u001b[39;00m \u001b[38;5;28mself\u001b[39m._sampler_iter \u001b[38;5;129;01mis\u001b[39;00m \u001b[38;5;28;01mNone\u001b[39;00m:\n\u001b[32m    731\u001b[39m     \u001b[38;5;66;03m# TODO(https://github.com/pytorch/pytorch/issues/76750)\u001b[39;00m\n\u001b[32m    732\u001b[39m     \u001b[38;5;28mself\u001b[39m._reset()  \u001b[38;5;66;03m# type: ignore[call-arg]\u001b[39;00m\n\u001b[32m--> \u001b[39m\u001b[32m733\u001b[39m data = \u001b[38;5;28;43mself\u001b[39;49m\u001b[43m.\u001b[49m\u001b[43m_next_data\u001b[49m\u001b[43m(\u001b[49m\u001b[43m)\u001b[49m\n\u001b[32m    734\u001b[39m \u001b[38;5;28mself\u001b[39m._num_yielded += \u001b[32m1\u001b[39m\n\u001b[32m    735\u001b[39m \u001b[38;5;28;01mif\u001b[39;00m (\n\u001b[32m    736\u001b[39m     \u001b[38;5;28mself\u001b[39m._dataset_kind == _DatasetKind.Iterable\n\u001b[32m    737\u001b[39m     \u001b[38;5;129;01mand\u001b[39;00m \u001b[38;5;28mself\u001b[39m._IterableDataset_len_called \u001b[38;5;129;01mis\u001b[39;00m \u001b[38;5;129;01mnot\u001b[39;00m \u001b[38;5;28;01mNone\u001b[39;00m\n\u001b[32m    738\u001b[39m     \u001b[38;5;129;01mand\u001b[39;00m \u001b[38;5;28mself\u001b[39m._num_yielded > \u001b[38;5;28mself\u001b[39m._IterableDataset_len_called\n\u001b[32m    739\u001b[39m ):\n",
      "\u001b[36mFile \u001b[39m\u001b[32md:\\Machine Learning\\INTERNSHIP\\Whisper-Malayalam-Finetuning\\.venv\\Lib\\site-packages\\torch\\utils\\data\\dataloader.py:789\u001b[39m, in \u001b[36m_SingleProcessDataLoaderIter._next_data\u001b[39m\u001b[34m(self)\u001b[39m\n\u001b[32m    787\u001b[39m \u001b[38;5;28;01mdef\u001b[39;00m\u001b[38;5;250m \u001b[39m\u001b[34m_next_data\u001b[39m(\u001b[38;5;28mself\u001b[39m):\n\u001b[32m    788\u001b[39m     index = \u001b[38;5;28mself\u001b[39m._next_index()  \u001b[38;5;66;03m# may raise StopIteration\u001b[39;00m\n\u001b[32m--> \u001b[39m\u001b[32m789\u001b[39m     data = \u001b[38;5;28;43mself\u001b[39;49m\u001b[43m.\u001b[49m\u001b[43m_dataset_fetcher\u001b[49m\u001b[43m.\u001b[49m\u001b[43mfetch\u001b[49m\u001b[43m(\u001b[49m\u001b[43mindex\u001b[49m\u001b[43m)\u001b[49m  \u001b[38;5;66;03m# may raise StopIteration\u001b[39;00m\n\u001b[32m    790\u001b[39m     \u001b[38;5;28;01mif\u001b[39;00m \u001b[38;5;28mself\u001b[39m._pin_memory:\n\u001b[32m    791\u001b[39m         data = _utils.pin_memory.pin_memory(data, \u001b[38;5;28mself\u001b[39m._pin_memory_device)\n",
      "\u001b[36mFile \u001b[39m\u001b[32md:\\Machine Learning\\INTERNSHIP\\Whisper-Malayalam-Finetuning\\.venv\\Lib\\site-packages\\torch\\utils\\data\\_utils\\fetch.py:55\u001b[39m, in \u001b[36m_MapDatasetFetcher.fetch\u001b[39m\u001b[34m(self, possibly_batched_index)\u001b[39m\n\u001b[32m     53\u001b[39m \u001b[38;5;28;01melse\u001b[39;00m:\n\u001b[32m     54\u001b[39m     data = \u001b[38;5;28mself\u001b[39m.dataset[possibly_batched_index]\n\u001b[32m---> \u001b[39m\u001b[32m55\u001b[39m \u001b[38;5;28;01mreturn\u001b[39;00m \u001b[38;5;28;43mself\u001b[39;49m\u001b[43m.\u001b[49m\u001b[43mcollate_fn\u001b[49m\u001b[43m(\u001b[49m\u001b[43mdata\u001b[49m\u001b[43m)\u001b[49m\n",
      "\u001b[36mCell\u001b[39m\u001b[36m \u001b[39m\u001b[32mIn[62]\u001b[39m\u001b[32m, line 19\u001b[39m, in \u001b[36mDataCollatorForSeqToSeqPadding.__call__\u001b[39m\u001b[34m(self, batch)\u001b[39m\n\u001b[32m     16\u001b[39m     labels.append(torch.tensor(data[\u001b[33m'\u001b[39m\u001b[33mlabels\u001b[39m\u001b[33m'\u001b[39m]))\n\u001b[32m     18\u001b[39m input_features = torch.stack(input_features, dim=\u001b[32m0\u001b[39m)\n\u001b[32m---> \u001b[39m\u001b[32m19\u001b[39m labels = \u001b[43mtorch\u001b[49m\u001b[43m.\u001b[49m\u001b[43mstack\u001b[49m\u001b[43m(\u001b[49m\u001b[43mlabels\u001b[49m\u001b[43m)\u001b[49m\n\u001b[32m     22\u001b[39m \u001b[38;5;28;01mreturn\u001b[39;00m input_features, labels\n",
      "\u001b[31mRuntimeError\u001b[39m: stack expects each tensor to be equal size, but got [78] at entry 0 and [117] at entry 1"
     ]
    }
   ],
   "source": [
    "for i, labels in data_loader:\n",
    "    break"
   ]
  },
  {
   "cell_type": "code",
   "execution_count": 69,
   "id": "53b3c334",
   "metadata": {},
   "outputs": [
    {
     "data": {
      "text/plain": [
       "[tensor([50258, 50296, 50359, 50363, 46503,   229, 46503,   110,   156,   113,\n",
       "           235, 46503,   110,   220, 46503,   106,   156,   113,   233, 46503,\n",
       "           101,   156,   113,   229, 50257]),\n",
       " tensor([50258, 50296, 50359, 50363, 46503,   106,   156,   113,   228, 46503,\n",
       "           107,   156,   113,   235,   220, 46503,   106, 46503,   122, 46503,\n",
       "           116,   156, 23560,   156,   113,   235,   156, 23560, 46503,   123,\n",
       "           156,   113,   121,   220, 46503,   228, 46503,   109,   156,   113,\n",
       "           235,   220, 46503,    99, 46503,   114, 46503,   122, 46503,   224,\n",
       "         46503,   114, 46503,   224,   220, 46503,   228, 46503,   109,   156,\n",
       "           113,   235,   220, 46503,   114,   156, 23560, 46503,   106, 46503,\n",
       "           122, 46503,   101, 46503,   106, 46503,   122, 46503,    96,   156,\n",
       "           113,   235,   220, 46503,   113, 46503,   123, 46503,   110, 46503,\n",
       "           243,   156,   113,   235, 46503,   243, 46503,   107, 46503,   109,\n",
       "           156,   113,   235, 46503,   109, 46503,   224,    13, 50257]),\n",
       " tensor([50258, 50296, 50359, 50363, 46503,   227, 46503,   113,   156,   113,\n",
       "           120, 46503,   243,   156,   113,   235, 46503,   243,   156,   113,\n",
       "           235,   220, 46503,   243, 46503,   103,   156,   113,   235, 46503,\n",
       "           103,   156,   113,   121,   220, 46503,   241, 46503,   253, 46503,\n",
       "           123, 46503,   243,   156,   113,   235, 46503,   243, 46503,   122,\n",
       "         46503,   101,   156,   113,   223, 46503,   224,   220, 46503,   106,\n",
       "         46503,   109,   156,   113,   235, 46503,   109,   156,   113,   223,\n",
       "         46503,   224,   220, 46503,   227, 46503,   109, 46503,   123, 46503,\n",
       "           107, 46503,   123, 46503,   110,   156,   113,   235, 46503,   110,\n",
       "         50257]),\n",
       " tensor([50258, 50296, 50359, 50363, 46503,   101, 46503,   110,   156,   113,\n",
       "           235, 46503,   110,   220, 46503,   108, 46503,   116, 46503,   106,\n",
       "         46503,   122, 46503,   107, 46503,   123, 46503,   108,   156,   113,\n",
       "           223, 46503,   101,   156,   113,   235, 46503,   101,   156,   113,\n",
       "           223, 50257]),\n",
       " tensor([50258, 50296, 50359, 50363, 46503,   227, 46503,   248,   156,   113,\n",
       "           235, 46503,   249, 46503,   101,   156,   113,   235,   220, 46503,\n",
       "           243, 46503,   122, 46503,   103,   156,   113,   235, 46503,   103,\n",
       "         46503,   123, 46503,   107, 46503,   123,   156,   113,   121,   220,\n",
       "         46503,   106, 46503,   100,   156,   113,   223, 46503,   108, 46503,\n",
       "           224,   220, 46503,   113,   156,   113,   229, 46503,    96,   156,\n",
       "           113,   233,    30, 50257])]"
      ]
     },
     "execution_count": 69,
     "metadata": {},
     "output_type": "execute_result"
    }
   ],
   "source": [
    "# i.shape -> torch.Size([5, 80, 3000])\n",
    "labels"
   ]
  },
  {
   "cell_type": "code",
   "execution_count": 58,
   "id": "25e8fccc",
   "metadata": {},
   "outputs": [
    {
     "name": "stderr",
     "output_type": "stream",
     "text": [
      "It is strongly recommended to pass the `sampling_rate` argument to `WhisperFeatureExtractor()`. Failing to do so can result in silent errors that might be hard to debug.\n"
     ]
    },
    {
     "ename": "TypeError",
     "evalue": "float() argument must be a string or a real number, not 'dict'",
     "output_type": "error",
     "traceback": [
      "\u001b[31m---------------------------------------------------------------------------\u001b[39m",
      "\u001b[31mTypeError\u001b[39m                                 Traceback (most recent call last)",
      "\u001b[36mCell\u001b[39m\u001b[36m \u001b[39m\u001b[32mIn[58]\u001b[39m\u001b[32m, line 1\u001b[39m\n\u001b[32m----> \u001b[39m\u001b[32m1\u001b[39m \u001b[43mfeature_extractor\u001b[49m\u001b[43m(\u001b[49m\u001b[43mcommon_voice\u001b[49m\u001b[43m[\u001b[49m\u001b[33;43m'\u001b[39;49m\u001b[33;43mtrain\u001b[39;49m\u001b[33;43m'\u001b[39;49m\u001b[43m]\u001b[49m\u001b[43m[\u001b[49m\u001b[43m:\u001b[49m\u001b[32;43m2\u001b[39;49m\u001b[43m]\u001b[49m\u001b[43m[\u001b[49m\u001b[33;43m'\u001b[39;49m\u001b[33;43maudio\u001b[39;49m\u001b[33;43m'\u001b[39;49m\u001b[43m]\u001b[49m\u001b[43m)\u001b[49m\n",
      "\u001b[36mFile \u001b[39m\u001b[32md:\\Machine Learning\\INTERNSHIP\\Whisper-Malayalam-Finetuning\\.venv\\Lib\\site-packages\\transformers\\models\\whisper\\feature_extraction_whisper.py:281\u001b[39m, in \u001b[36mWhisperFeatureExtractor.__call__\u001b[39m\u001b[34m(self, raw_speech, truncation, pad_to_multiple_of, return_tensors, return_attention_mask, padding, max_length, sampling_rate, do_normalize, device, return_token_timestamps, **kwargs)\u001b[39m\n\u001b[32m    279\u001b[39m     raw_speech = [np.asarray([speech], dtype=np.float32).T \u001b[38;5;28;01mfor\u001b[39;00m speech \u001b[38;5;129;01min\u001b[39;00m raw_speech]\n\u001b[32m    280\u001b[39m \u001b[38;5;28;01melif\u001b[39;00m \u001b[38;5;129;01mnot\u001b[39;00m is_batched \u001b[38;5;129;01mand\u001b[39;00m \u001b[38;5;129;01mnot\u001b[39;00m \u001b[38;5;28misinstance\u001b[39m(raw_speech, np.ndarray):\n\u001b[32m--> \u001b[39m\u001b[32m281\u001b[39m     raw_speech = \u001b[43mnp\u001b[49m\u001b[43m.\u001b[49m\u001b[43masarray\u001b[49m\u001b[43m(\u001b[49m\u001b[43mraw_speech\u001b[49m\u001b[43m,\u001b[49m\u001b[43m \u001b[49m\u001b[43mdtype\u001b[49m\u001b[43m=\u001b[49m\u001b[43mnp\u001b[49m\u001b[43m.\u001b[49m\u001b[43mfloat32\u001b[49m\u001b[43m)\u001b[49m\n\u001b[32m    282\u001b[39m \u001b[38;5;28;01melif\u001b[39;00m \u001b[38;5;28misinstance\u001b[39m(raw_speech, np.ndarray) \u001b[38;5;129;01mand\u001b[39;00m raw_speech.dtype \u001b[38;5;129;01mis\u001b[39;00m np.dtype(np.float64):\n\u001b[32m    283\u001b[39m     raw_speech = raw_speech.astype(np.float32)\n",
      "\u001b[31mTypeError\u001b[39m: float() argument must be a string or a real number, not 'dict'"
     ]
    }
   ],
   "source": [
    "feature_extractor(common_voice['train'][:2]['audio'])"
   ]
  },
  {
   "cell_type": "code",
   "execution_count": null,
   "id": "798841f5",
   "metadata": {},
   "outputs": [],
   "source": []
  }
 ],
 "metadata": {
  "kernelspec": {
   "display_name": ".venv",
   "language": "python",
   "name": "python3"
  },
  "language_info": {
   "codemirror_mode": {
    "name": "ipython",
    "version": 3
   },
   "file_extension": ".py",
   "mimetype": "text/x-python",
   "name": "python",
   "nbconvert_exporter": "python",
   "pygments_lexer": "ipython3",
   "version": "3.12.10"
  }
 },
 "nbformat": 4,
 "nbformat_minor": 5
}
